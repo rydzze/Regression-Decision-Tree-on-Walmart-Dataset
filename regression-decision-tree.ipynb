{
 "cells": [
  {
   "cell_type": "markdown",
   "id": "4d9f3c21",
   "metadata": {
    "papermill": {
     "duration": 0.006787,
     "end_time": "2024-01-01T08:15:59.394443",
     "exception": false,
     "start_time": "2024-01-01T08:15:59.387656",
     "status": "completed"
    },
    "tags": []
   },
   "source": [
    "# **Initialisation**"
   ]
  },
  {
   "cell_type": "code",
   "execution_count": 1,
   "id": "f1af9c9c",
   "metadata": {
    "_cell_guid": "b1076dfc-b9ad-4769-8c92-a6c4dae69d19",
    "_uuid": "8f2839f25d086af736a60e9eeb907d3b93b6e0e5",
    "execution": {
     "iopub.execute_input": "2024-01-01T08:15:59.409258Z",
     "iopub.status.busy": "2024-01-01T08:15:59.408050Z",
     "iopub.status.idle": "2024-01-01T08:16:02.024622Z",
     "shell.execute_reply": "2024-01-01T08:16:02.023811Z"
    },
    "papermill": {
     "duration": 2.626241,
     "end_time": "2024-01-01T08:16:02.026749",
     "exception": false,
     "start_time": "2024-01-01T08:15:59.400508",
     "status": "completed"
    },
    "tags": []
   },
   "outputs": [],
   "source": [
    "import numpy as np # linear algebra\n",
    "import pandas as pd # data processing, CSV file I/O\n",
    "import seaborn as sns\n",
    "import matplotlib.pyplot as plt\n",
    "\n",
    "from sklearn.model_selection import train_test_split\n",
    "from sklearn.preprocessing import StandardScaler\n",
    "from category_encoders import BinaryEncoder\n",
    "from sklearn.compose import ColumnTransformer\n",
    "from sklearn.pipeline import Pipeline\n",
    "\n",
    "#Importing all library necessary for model training\n",
    "from sklearn.tree import DecisionTreeRegressor\n",
    "from sklearn.linear_model import LinearRegression\n",
    "from sklearn.pipeline import make_pipeline\n",
    "from sklearn.preprocessing import PolynomialFeatures\n",
    "from sklearn.neighbors import KNeighborsRegressor\n",
    "from sklearn.metrics import r2_score, mean_absolute_error, mean_squared_error\n",
    "from sklearn.model_selection import GridSearchCV\n",
    "\n",
    "#Import Walmart CSV Dataset \n",
    "data = pd.read_csv(\"/kaggle/input/walmart-dataset/Walmart.csv\")"
   ]
  },
  {
   "cell_type": "markdown",
   "id": "360c6f46",
   "metadata": {
    "papermill": {
     "duration": 0.005915,
     "end_time": "2024-01-01T08:16:02.039035",
     "exception": false,
     "start_time": "2024-01-01T08:16:02.033120",
     "status": "completed"
    },
    "tags": []
   },
   "source": [
    "# **Data Collection and Exploration**"
   ]
  },
  {
   "cell_type": "markdown",
   "id": "a2e51dd0",
   "metadata": {
    "papermill": {
     "duration": 0.00555,
     "end_time": "2024-01-01T08:16:02.050258",
     "exception": false,
     "start_time": "2024-01-01T08:16:02.044708",
     "status": "completed"
    },
    "tags": []
   },
   "source": [
    "# **Data Preprocessing**"
   ]
  },
  {
   "cell_type": "code",
   "execution_count": 2,
   "id": "2a08a11d",
   "metadata": {
    "execution": {
     "iopub.execute_input": "2024-01-01T08:16:02.063783Z",
     "iopub.status.busy": "2024-01-01T08:16:02.063054Z",
     "iopub.status.idle": "2024-01-01T08:16:02.077191Z",
     "shell.execute_reply": "2024-01-01T08:16:02.076238Z"
    },
    "papermill": {
     "duration": 0.022894,
     "end_time": "2024-01-01T08:16:02.078852",
     "exception": false,
     "start_time": "2024-01-01T08:16:02.055958",
     "status": "completed"
    },
    "tags": []
   },
   "outputs": [
    {
     "data": {
      "text/plain": [
       "Store           0\n",
       "Date            0\n",
       "Weekly_Sales    0\n",
       "Holiday_Flag    0\n",
       "Temperature     0\n",
       "Fuel_Price      0\n",
       "CPI             0\n",
       "Unemployment    0\n",
       "dtype: int64"
      ]
     },
     "execution_count": 2,
     "metadata": {},
     "output_type": "execute_result"
    }
   ],
   "source": [
    "data.isnull().sum()"
   ]
  },
  {
   "cell_type": "code",
   "execution_count": 3,
   "id": "9f972bcc",
   "metadata": {
    "execution": {
     "iopub.execute_input": "2024-01-01T08:16:02.092621Z",
     "iopub.status.busy": "2024-01-01T08:16:02.092191Z",
     "iopub.status.idle": "2024-01-01T08:16:02.098092Z",
     "shell.execute_reply": "2024-01-01T08:16:02.097433Z"
    },
    "papermill": {
     "duration": 0.014509,
     "end_time": "2024-01-01T08:16:02.099633",
     "exception": false,
     "start_time": "2024-01-01T08:16:02.085124",
     "status": "completed"
    },
    "tags": []
   },
   "outputs": [
    {
     "data": {
      "text/plain": [
       "Store             int64\n",
       "Date             object\n",
       "Weekly_Sales    float64\n",
       "Holiday_Flag      int64\n",
       "Temperature     float64\n",
       "Fuel_Price      float64\n",
       "CPI             float64\n",
       "Unemployment    float64\n",
       "dtype: object"
      ]
     },
     "execution_count": 3,
     "metadata": {},
     "output_type": "execute_result"
    }
   ],
   "source": [
    "data.dtypes"
   ]
  },
  {
   "cell_type": "code",
   "execution_count": 4,
   "id": "2d679a70",
   "metadata": {
    "execution": {
     "iopub.execute_input": "2024-01-01T08:16:02.113780Z",
     "iopub.status.busy": "2024-01-01T08:16:02.113272Z",
     "iopub.status.idle": "2024-01-01T08:16:02.147892Z",
     "shell.execute_reply": "2024-01-01T08:16:02.146504Z"
    },
    "papermill": {
     "duration": 0.044972,
     "end_time": "2024-01-01T08:16:02.150683",
     "exception": false,
     "start_time": "2024-01-01T08:16:02.105711",
     "status": "completed"
    },
    "tags": []
   },
   "outputs": [],
   "source": [
    "def get_season(quarter):\n",
    "    if quarter == 1:\n",
    "        return 'Winter'\n",
    "    elif quarter == 2:\n",
    "        return 'Spring'\n",
    "    elif quarter == 3:\n",
    "        return 'Summer'\n",
    "    else:\n",
    "        return 'Autumn'\n",
    "    \n",
    "data['Date'] = pd.to_datetime(data['Date'], format = \"%d-%m-%Y\")\n",
    "data['Year'] = data['Date'].dt.year\n",
    "data['Quarter'] = data['Date'].dt.quarter\n",
    "data['Season'] = data['Quarter'].apply(get_season)\n",
    "data['Month'] = data['Date'].dt.month\n",
    "data['Month_Name'] = data['Date'].dt.month_name()\n",
    "data['Week'] = data['Date'].dt.isocalendar().week\n",
    "data['Day_of_Week'] = data['Date'].dt.day_name()\n",
    "data['Week'] = data['Week'].astype('int32')"
   ]
  },
  {
   "cell_type": "code",
   "execution_count": 5,
   "id": "1006f6cd",
   "metadata": {
    "execution": {
     "iopub.execute_input": "2024-01-01T08:16:02.167031Z",
     "iopub.status.busy": "2024-01-01T08:16:02.166356Z",
     "iopub.status.idle": "2024-01-01T08:16:02.181362Z",
     "shell.execute_reply": "2024-01-01T08:16:02.180135Z"
    },
    "papermill": {
     "duration": 0.025662,
     "end_time": "2024-01-01T08:16:02.183392",
     "exception": false,
     "start_time": "2024-01-01T08:16:02.157730",
     "status": "completed"
    },
    "tags": []
   },
   "outputs": [
    {
     "data": {
      "text/plain": [
       "Store             int64\n",
       "Weekly_Sales    float64\n",
       "Holiday_Flag      int64\n",
       "Temperature     float64\n",
       "Fuel_Price      float64\n",
       "CPI             float64\n",
       "Unemployment    float64\n",
       "Season           object\n",
       "Month_Name       object\n",
       "Week              int32\n",
       "dtype: object"
      ]
     },
     "execution_count": 5,
     "metadata": {},
     "output_type": "execute_result"
    }
   ],
   "source": [
    "data_preprocess = data.copy()\n",
    "data_preprocess.drop(['Date', 'Year', 'Quarter', 'Month', 'Day_of_Week'], axis = 1, inplace = True)\n",
    "\n",
    "data_preprocess.dtypes"
   ]
  },
  {
   "cell_type": "code",
   "execution_count": 6,
   "id": "4e2852f9",
   "metadata": {
    "execution": {
     "iopub.execute_input": "2024-01-01T08:16:02.200089Z",
     "iopub.status.busy": "2024-01-01T08:16:02.199469Z",
     "iopub.status.idle": "2024-01-01T08:16:02.209103Z",
     "shell.execute_reply": "2024-01-01T08:16:02.208144Z"
    },
    "papermill": {
     "duration": 0.020237,
     "end_time": "2024-01-01T08:16:02.210860",
     "exception": false,
     "start_time": "2024-01-01T08:16:02.190623",
     "status": "completed"
    },
    "tags": []
   },
   "outputs": [
    {
     "data": {
      "text/plain": [
       "Store            object\n",
       "Weekly_Sales    float64\n",
       "Holiday_Flag     object\n",
       "Temperature     float64\n",
       "Fuel_Price      float64\n",
       "CPI             float64\n",
       "Unemployment    float64\n",
       "Season           object\n",
       "Month_Name       object\n",
       "Week             object\n",
       "dtype: object"
      ]
     },
     "execution_count": 6,
     "metadata": {},
     "output_type": "execute_result"
    }
   ],
   "source": [
    "data_preprocess['Store'] = data_preprocess['Store'].astype('object')\n",
    "data_preprocess['Holiday_Flag'] = data_preprocess['Holiday_Flag'].astype('object')\n",
    "data_preprocess['Week'] = data_preprocess['Week'].astype('object')\n",
    "\n",
    "data_preprocess.dtypes"
   ]
  },
  {
   "cell_type": "code",
   "execution_count": 7,
   "id": "db6b2497",
   "metadata": {
    "execution": {
     "iopub.execute_input": "2024-01-01T08:16:02.227255Z",
     "iopub.status.busy": "2024-01-01T08:16:02.226577Z",
     "iopub.status.idle": "2024-01-01T08:16:02.243357Z",
     "shell.execute_reply": "2024-01-01T08:16:02.242365Z"
    },
    "papermill": {
     "duration": 0.027146,
     "end_time": "2024-01-01T08:16:02.245283",
     "exception": false,
     "start_time": "2024-01-01T08:16:02.218137",
     "status": "completed"
    },
    "tags": []
   },
   "outputs": [
    {
     "name": "stdout",
     "output_type": "stream",
     "text": [
      "Numerical Features : ['Temperature', 'Fuel_Price', 'CPI', 'Unemployment']\n",
      "Categorical Features: ['Store', 'Holiday_Flag', 'Season', 'Month_Name', 'Week']\n"
     ]
    }
   ],
   "source": [
    "X = data_preprocess.drop('Weekly_Sales', axis = 1)\n",
    "y = data_preprocess['Weekly_Sales']\n",
    "\n",
    "X_train, X_test, y_train, y_test = train_test_split(X, y, test_size = 0.2, random_state = 42)\n",
    "\n",
    "num_feats = data_preprocess.select_dtypes('number').columns.to_list()\n",
    "num_feats.remove('Weekly_Sales')\n",
    "\n",
    "cat_feats = data_preprocess.select_dtypes('object').columns.to_list()\n",
    "\n",
    "print(f'Numerical Features : {num_feats}')\n",
    "print(f'Categorical Features: {cat_feats}')"
   ]
  },
  {
   "cell_type": "code",
   "execution_count": 8,
   "id": "e4e6fe72",
   "metadata": {
    "execution": {
     "iopub.execute_input": "2024-01-01T08:16:02.260290Z",
     "iopub.status.busy": "2024-01-01T08:16:02.259898Z",
     "iopub.status.idle": "2024-01-01T08:16:02.365948Z",
     "shell.execute_reply": "2024-01-01T08:16:02.365064Z"
    },
    "papermill": {
     "duration": 0.117092,
     "end_time": "2024-01-01T08:16:02.369342",
     "exception": false,
     "start_time": "2024-01-01T08:16:02.252250",
     "status": "completed"
    },
    "tags": []
   },
   "outputs": [],
   "source": [
    "preprocessor = ColumnTransformer([('num_features', StandardScaler(), num_feats),\n",
    "                                  ('cat_features', BinaryEncoder(), cat_feats),])\n",
    "\n",
    "preprocessor.fit(X_train)\n",
    "\n",
    "X_train_transformed = preprocessor.transform(X_train)\n",
    "X_test_transformed = preprocessor.transform(X_test)"
   ]
  },
  {
   "cell_type": "markdown",
   "id": "6eef08ad",
   "metadata": {
    "papermill": {
     "duration": 0.007101,
     "end_time": "2024-01-01T08:16:02.384148",
     "exception": false,
     "start_time": "2024-01-01T08:16:02.377047",
     "status": "completed"
    },
    "tags": []
   },
   "source": [
    "# **Model Building and Evaluation**"
   ]
  },
  {
   "cell_type": "code",
   "execution_count": 9,
   "id": "13f73055",
   "metadata": {
    "execution": {
     "iopub.execute_input": "2024-01-01T08:16:02.400039Z",
     "iopub.status.busy": "2024-01-01T08:16:02.399653Z",
     "iopub.status.idle": "2024-01-01T08:16:02.405357Z",
     "shell.execute_reply": "2024-01-01T08:16:02.404512Z"
    },
    "papermill": {
     "duration": 0.015851,
     "end_time": "2024-01-01T08:16:02.407162",
     "exception": false,
     "start_time": "2024-01-01T08:16:02.391311",
     "status": "completed"
    },
    "tags": []
   },
   "outputs": [],
   "source": [
    "#Calculating the evaluation metrics of the decision tree\n",
    "def evaluateModel(model, X, y_test):\n",
    "    \n",
    "    y_predict = model.predict(X)\n",
    "    \n",
    "    MAE = mean_absolute_error(y_test, y_predict)\n",
    "    MSE = mean_squared_error(y_test, y_predict)\n",
    "    RMSE = np.sqrt(MSE)\n",
    "    R2 = r2_score(y_test, y_predict)\n",
    "\n",
    "    print(f\"Mean Absolute Error: {MAE}\")\n",
    "    print(f\"Mean Squared Error: {MSE}\")\n",
    "    print(f\"Root Mean Squared Error: {RMSE}\")\n",
    "    print(f\"\\nR2 Score: {R2}\")"
   ]
  },
  {
   "cell_type": "markdown",
   "id": "3a24434e",
   "metadata": {
    "papermill": {
     "duration": 0.006421,
     "end_time": "2024-01-01T08:16:02.420739",
     "exception": false,
     "start_time": "2024-01-01T08:16:02.414318",
     "status": "completed"
    },
    "tags": []
   },
   "source": [
    "## **1. Decision Tree Regressor** "
   ]
  },
  {
   "cell_type": "code",
   "execution_count": 10,
   "id": "7d12b60e",
   "metadata": {
    "execution": {
     "iopub.execute_input": "2024-01-01T08:16:02.435066Z",
     "iopub.status.busy": "2024-01-01T08:16:02.434712Z",
     "iopub.status.idle": "2024-01-01T08:16:02.479535Z",
     "shell.execute_reply": "2024-01-01T08:16:02.478032Z"
    },
    "papermill": {
     "duration": 0.054468,
     "end_time": "2024-01-01T08:16:02.481632",
     "exception": false,
     "start_time": "2024-01-01T08:16:02.427164",
     "status": "completed"
    },
    "tags": []
   },
   "outputs": [
    {
     "name": "stdout",
     "output_type": "stream",
     "text": [
      "\n",
      "Evaluation for Decision Tree Regressor Model\n",
      "\n",
      "Mean Absolute Error: 0.0\n",
      "Mean Squared Error: 0.0\n",
      "Root Mean Squared Error: 0.0\n",
      "\n",
      "R2 Score: 1.0\n"
     ]
    }
   ],
   "source": [
    "decisionTree_regressor = DecisionTreeRegressor()\n",
    "decisionTree_regressor.fit(X_train_transformed, y_train)\n",
    "\n",
    "print(\"\\nEvaluation for Decision Tree Regressor Model\\n\")\n",
    "evaluateModel(decisionTree_regressor, X_train_transformed, y_train)"
   ]
  },
  {
   "cell_type": "markdown",
   "id": "9fea9acf",
   "metadata": {
    "papermill": {
     "duration": 0.00669,
     "end_time": "2024-01-01T08:16:02.495965",
     "exception": false,
     "start_time": "2024-01-01T08:16:02.489275",
     "status": "completed"
    },
    "tags": []
   },
   "source": [
    "## **2. Linear Regression** "
   ]
  },
  {
   "cell_type": "code",
   "execution_count": 11,
   "id": "37a34d9e",
   "metadata": {
    "execution": {
     "iopub.execute_input": "2024-01-01T08:16:02.512602Z",
     "iopub.status.busy": "2024-01-01T08:16:02.511419Z",
     "iopub.status.idle": "2024-01-01T08:16:02.550752Z",
     "shell.execute_reply": "2024-01-01T08:16:02.549895Z"
    },
    "papermill": {
     "duration": 0.0511,
     "end_time": "2024-01-01T08:16:02.554092",
     "exception": false,
     "start_time": "2024-01-01T08:16:02.502992",
     "status": "completed"
    },
    "tags": []
   },
   "outputs": [
    {
     "name": "stdout",
     "output_type": "stream",
     "text": [
      "\n",
      "Evaluation for Linear Regression Model\n",
      "\n",
      "Mean Absolute Error: 445396.7314952883\n",
      "Mean Squared Error: 282687248083.4086\n",
      "Root Mean Squared Error: 531683.4096371718\n",
      "\n",
      "R2 Score: 0.10969474712530514\n"
     ]
    }
   ],
   "source": [
    "linearRegression_regressor = LinearRegression()\n",
    "linearRegression_regressor.fit(X_train_transformed, y_train)\n",
    "\n",
    "print(\"\\nEvaluation for Linear Regression Model\\n\")\n",
    "evaluateModel(linearRegression_regressor, X_train_transformed, y_train)"
   ]
  },
  {
   "cell_type": "markdown",
   "id": "7579205d",
   "metadata": {
    "papermill": {
     "duration": 0.031942,
     "end_time": "2024-01-01T08:16:02.619774",
     "exception": false,
     "start_time": "2024-01-01T08:16:02.587832",
     "status": "completed"
    },
    "tags": []
   },
   "source": [
    "## **3. K-Nearest Neighbors Regressor** "
   ]
  },
  {
   "cell_type": "code",
   "execution_count": 12,
   "id": "0c437ce4",
   "metadata": {
    "execution": {
     "iopub.execute_input": "2024-01-01T08:16:02.659272Z",
     "iopub.status.busy": "2024-01-01T08:16:02.658868Z",
     "iopub.status.idle": "2024-01-01T08:16:02.757776Z",
     "shell.execute_reply": "2024-01-01T08:16:02.757053Z"
    },
    "papermill": {
     "duration": 0.119137,
     "end_time": "2024-01-01T08:16:02.760198",
     "exception": false,
     "start_time": "2024-01-01T08:16:02.641061",
     "status": "completed"
    },
    "tags": []
   },
   "outputs": [
    {
     "name": "stdout",
     "output_type": "stream",
     "text": [
      "\n",
      "Evaluation for K-Nearest Neighbors Regressor Model\n",
      "\n",
      "Mean Absolute Error: 280699.1654696969\n",
      "Mean Squared Error: 134593881455.65982\n",
      "Root Mean Squared Error: 366870.38781517895\n",
      "\n",
      "R2 Score: 0.576105252439928\n"
     ]
    }
   ],
   "source": [
    "knn_regressor = KNeighborsRegressor()\n",
    "knn_regressor.fit(X_train_transformed, y_train)\n",
    "\n",
    "print(\"\\nEvaluation for K-Nearest Neighbors Regressor Model\\n\")\n",
    "evaluateModel(knn_regressor, X_train_transformed, y_train)"
   ]
  },
  {
   "cell_type": "markdown",
   "id": "93a6ded0",
   "metadata": {
    "papermill": {
     "duration": 0.007121,
     "end_time": "2024-01-01T08:16:02.774909",
     "exception": false,
     "start_time": "2024-01-01T08:16:02.767788",
     "status": "completed"
    },
    "tags": []
   },
   "source": [
    "# **Hyperparameter Tuning**"
   ]
  },
  {
   "cell_type": "code",
   "execution_count": 13,
   "id": "d074879b",
   "metadata": {
    "execution": {
     "iopub.execute_input": "2024-01-01T08:16:02.791463Z",
     "iopub.status.busy": "2024-01-01T08:16:02.790685Z",
     "iopub.status.idle": "2024-01-01T08:16:02.795802Z",
     "shell.execute_reply": "2024-01-01T08:16:02.795267Z"
    },
    "papermill": {
     "duration": 0.014999,
     "end_time": "2024-01-01T08:16:02.797338",
     "exception": false,
     "start_time": "2024-01-01T08:16:02.782339",
     "status": "completed"
    },
    "tags": []
   },
   "outputs": [],
   "source": [
    "#Tuning the model to optimise the performance\n",
    "def tuneModel(estimator, X_train, y_train, param_grid, cv=5):   \n",
    "    \n",
    "    grid_search = GridSearchCV(estimator=estimator,\n",
    "                               param_grid=param_grid,\n",
    "                               scoring='r2',\n",
    "                               cv=cv)\n",
    "\n",
    "    # Fit the data\n",
    "    grid_search.fit(X_train, y_train)\n",
    "\n",
    "    best_params = grid_search.best_params_\n",
    "    best_score = grid_search.best_score_\n",
    "\n",
    "    print(f\"Best parameters: {best_params} \\n\")\n",
    "    print(f\"Best R2 score: {best_score}\")\n",
    "    \n",
    "    best_estimator = grid_search.best_estimator_\n",
    "    return best_estimator"
   ]
  },
  {
   "cell_type": "markdown",
   "id": "cfdb801d",
   "metadata": {
    "papermill": {
     "duration": 0.006404,
     "end_time": "2024-01-01T08:16:02.811147",
     "exception": false,
     "start_time": "2024-01-01T08:16:02.804743",
     "status": "completed"
    },
    "tags": []
   },
   "source": [
    "## **1. Decision Tree Regressor** "
   ]
  },
  {
   "cell_type": "code",
   "execution_count": 14,
   "id": "fb3606e7",
   "metadata": {
    "execution": {
     "iopub.execute_input": "2024-01-01T08:16:02.825870Z",
     "iopub.status.busy": "2024-01-01T08:16:02.825558Z",
     "iopub.status.idle": "2024-01-01T08:16:10.396739Z",
     "shell.execute_reply": "2024-01-01T08:16:10.395826Z"
    },
    "papermill": {
     "duration": 7.581431,
     "end_time": "2024-01-01T08:16:10.399212",
     "exception": false,
     "start_time": "2024-01-01T08:16:02.817781",
     "status": "completed"
    },
    "tags": []
   },
   "outputs": [
    {
     "name": "stdout",
     "output_type": "stream",
     "text": [
      "Best parameters: {'max_depth': 10, 'min_samples_split': 30} \n",
      "\n",
      "Best R2 score: 0.9203988527764982\n"
     ]
    }
   ],
   "source": [
    "dt_param_grid = {'max_depth': np.arange(2, 15),\n",
    "              'min_samples_split': [10, 20, 30, 40, 50, 100, 200, 300]}\n",
    "\n",
    "decisionTree_regressor_tuned = tuneModel(decisionTree_regressor, X_train_transformed, y_train, dt_param_grid, cv = 5)"
   ]
  },
  {
   "cell_type": "code",
   "execution_count": 15,
   "id": "201cb7e7",
   "metadata": {
    "execution": {
     "iopub.execute_input": "2024-01-01T08:16:10.415964Z",
     "iopub.status.busy": "2024-01-01T08:16:10.415092Z",
     "iopub.status.idle": "2024-01-01T08:16:10.424084Z",
     "shell.execute_reply": "2024-01-01T08:16:10.422355Z"
    },
    "papermill": {
     "duration": 0.019619,
     "end_time": "2024-01-01T08:16:10.426284",
     "exception": false,
     "start_time": "2024-01-01T08:16:10.406665",
     "status": "completed"
    },
    "tags": []
   },
   "outputs": [
    {
     "name": "stdout",
     "output_type": "stream",
     "text": [
      "\n",
      "Evaluation for tuned Decision Tree Regressor Model\n",
      "\n",
      "Mean Absolute Error: 63044.414837232376\n",
      "Mean Squared Error: 13153013615.362638\n",
      "Root Mean Squared Error: 114686.58864646136\n",
      "\n",
      "R2 Score: 0.9585754320639375\n"
     ]
    }
   ],
   "source": [
    "print(\"\\nEvaluation for tuned Decision Tree Regressor Model\\n\")\n",
    "evaluateModel(decisionTree_regressor_tuned, X_train_transformed, y_train)"
   ]
  },
  {
   "cell_type": "code",
   "execution_count": 16,
   "id": "e14b5289",
   "metadata": {
    "execution": {
     "iopub.execute_input": "2024-01-01T08:16:10.442484Z",
     "iopub.status.busy": "2024-01-01T08:16:10.442124Z",
     "iopub.status.idle": "2024-01-01T08:16:10.449931Z",
     "shell.execute_reply": "2024-01-01T08:16:10.448793Z"
    },
    "papermill": {
     "duration": 0.017991,
     "end_time": "2024-01-01T08:16:10.451804",
     "exception": false,
     "start_time": "2024-01-01T08:16:10.433813",
     "status": "completed"
    },
    "tags": []
   },
   "outputs": [
    {
     "name": "stdout",
     "output_type": "stream",
     "text": [
      "\n",
      "Testing the tuned Decision Tree Regressor Model\n",
      "\n",
      "Mean Absolute Error: 85068.27495429495\n",
      "Mean Squared Error: 25487857012.172134\n",
      "Root Mean Squared Error: 159649.16852953582\n",
      "\n",
      "R2 Score: 0.9208831417889422\n"
     ]
    }
   ],
   "source": [
    "print(\"\\nTesting the tuned Decision Tree Regressor Model\\n\")\n",
    "evaluateModel(decisionTree_regressor_tuned, X_test_transformed, y_test)"
   ]
  },
  {
   "cell_type": "markdown",
   "id": "78b6ded7",
   "metadata": {
    "papermill": {
     "duration": 0.006784,
     "end_time": "2024-01-01T08:16:10.466122",
     "exception": false,
     "start_time": "2024-01-01T08:16:10.459338",
     "status": "completed"
    },
    "tags": []
   },
   "source": [
    "## **2. Linear Regression** "
   ]
  },
  {
   "cell_type": "code",
   "execution_count": 17,
   "id": "b5ec5be1",
   "metadata": {
    "execution": {
     "iopub.execute_input": "2024-01-01T08:16:10.482323Z",
     "iopub.status.busy": "2024-01-01T08:16:10.481752Z",
     "iopub.status.idle": "2024-01-01T08:21:02.488155Z",
     "shell.execute_reply": "2024-01-01T08:21:02.486928Z"
    },
    "papermill": {
     "duration": 292.021713,
     "end_time": "2024-01-01T08:21:02.494649",
     "exception": false,
     "start_time": "2024-01-01T08:16:10.472936",
     "status": "completed"
    },
    "tags": []
   },
   "outputs": [
    {
     "name": "stdout",
     "output_type": "stream",
     "text": [
      "Best parameters: {'poly_feat__degree': 3} \n",
      "\n",
      "Best R2 score: 0.9598657981553396\n"
     ]
    }
   ],
   "source": [
    "LR_pipe = Pipeline([('poly_feat', PolynomialFeatures()),\n",
    "                    ('lin_reg', LinearRegression())])\n",
    "\n",
    "param_grid = {'poly_feat__degree': [2, 3, 4]}\n",
    "\n",
    "linearRegression_regressor_tuned = tuneModel(LR_pipe, X_train_transformed, y_train, param_grid, cv = 5)"
   ]
  },
  {
   "cell_type": "code",
   "execution_count": 18,
   "id": "a17f9712",
   "metadata": {
    "execution": {
     "iopub.execute_input": "2024-01-01T08:21:02.533757Z",
     "iopub.status.busy": "2024-01-01T08:21:02.533327Z",
     "iopub.status.idle": "2024-01-01T08:21:02.664073Z",
     "shell.execute_reply": "2024-01-01T08:21:02.661687Z"
    },
    "papermill": {
     "duration": 0.153098,
     "end_time": "2024-01-01T08:21:02.666540",
     "exception": false,
     "start_time": "2024-01-01T08:21:02.513442",
     "status": "completed"
    },
    "tags": []
   },
   "outputs": [
    {
     "name": "stdout",
     "output_type": "stream",
     "text": [
      "\n",
      "Evaluation for tuned Linear Regression Model\n",
      "\n",
      "Mean Absolute Error: 50286.66308857808\n",
      "Mean Squared Error: 5368562630.278031\n",
      "Root Mean Squared Error: 73270.47584312546\n",
      "\n",
      "R2 Score: 0.983092058299308\n"
     ]
    }
   ],
   "source": [
    "print(\"\\nEvaluation for tuned Linear Regression Model\\n\")\n",
    "evaluateModel(linearRegression_regressor_tuned, X_train_transformed, y_train)"
   ]
  },
  {
   "cell_type": "code",
   "execution_count": 19,
   "id": "539a6226",
   "metadata": {
    "execution": {
     "iopub.execute_input": "2024-01-01T08:21:02.781397Z",
     "iopub.status.busy": "2024-01-01T08:21:02.781016Z",
     "iopub.status.idle": "2024-01-01T08:21:02.808586Z",
     "shell.execute_reply": "2024-01-01T08:21:02.807325Z"
    },
    "papermill": {
     "duration": 0.135087,
     "end_time": "2024-01-01T08:21:02.811430",
     "exception": false,
     "start_time": "2024-01-01T08:21:02.676343",
     "status": "completed"
    },
    "tags": []
   },
   "outputs": [
    {
     "name": "stdout",
     "output_type": "stream",
     "text": [
      "\n",
      "Testing the tuned Linear Regression Model\n",
      "\n",
      "Mean Absolute Error: 73083.6624009324\n",
      "Mean Squared Error: 11479116180.884602\n",
      "Root Mean Squared Error: 107140.63739256268\n",
      "\n",
      "R2 Score: 0.9643676748956342\n"
     ]
    }
   ],
   "source": [
    "print(\"\\nTesting the tuned Linear Regression Model\\n\")\n",
    "evaluateModel(linearRegression_regressor_tuned, X_test_transformed, y_test)"
   ]
  },
  {
   "cell_type": "markdown",
   "id": "45ddb698",
   "metadata": {
    "papermill": {
     "duration": 0.010332,
     "end_time": "2024-01-01T08:21:02.831422",
     "exception": false,
     "start_time": "2024-01-01T08:21:02.821090",
     "status": "completed"
    },
    "tags": []
   },
   "source": [
    "## **3. K-Nearest Neighbors Regressor** "
   ]
  },
  {
   "cell_type": "code",
   "execution_count": 20,
   "id": "8c340d23",
   "metadata": {
    "execution": {
     "iopub.execute_input": "2024-01-01T08:21:02.854470Z",
     "iopub.status.busy": "2024-01-01T08:21:02.852992Z",
     "iopub.status.idle": "2024-01-01T08:21:03.429913Z",
     "shell.execute_reply": "2024-01-01T08:21:03.428902Z"
    },
    "papermill": {
     "duration": 0.590479,
     "end_time": "2024-01-01T08:21:03.431944",
     "exception": false,
     "start_time": "2024-01-01T08:21:02.841465",
     "status": "completed"
    },
    "tags": []
   },
   "outputs": [
    {
     "name": "stdout",
     "output_type": "stream",
     "text": [
      "Best parameters: {'n_neighbors': 13} \n",
      "\n",
      "Best R2 score: 0.3530567607408912\n"
     ]
    }
   ],
   "source": [
    "knn_param_grid = {'n_neighbors': [1, 3, 5, 7, 9, 11, 13]}\n",
    "\n",
    "knn_regressor_tuned = tuneModel(knn_regressor, X_train_transformed, y_train, knn_param_grid, cv = 5)"
   ]
  },
  {
   "cell_type": "code",
   "execution_count": 21,
   "id": "df8720d2",
   "metadata": {
    "execution": {
     "iopub.execute_input": "2024-01-01T08:21:03.451133Z",
     "iopub.status.busy": "2024-01-01T08:21:03.450369Z",
     "iopub.status.idle": "2024-01-01T08:21:03.517752Z",
     "shell.execute_reply": "2024-01-01T08:21:03.517050Z"
    },
    "papermill": {
     "duration": 0.079595,
     "end_time": "2024-01-01T08:21:03.519658",
     "exception": false,
     "start_time": "2024-01-01T08:21:03.440063",
     "status": "completed"
    },
    "tags": []
   },
   "outputs": [
    {
     "name": "stdout",
     "output_type": "stream",
     "text": [
      "\n",
      "Evaluation for tuned KNN Regressor Model\n",
      "\n",
      "Mean Absolute Error: 334245.1421195684\n",
      "Mean Squared Error: 170681912401.75092\n",
      "Root Mean Squared Error: 413136.67520779476\n",
      "\n",
      "R2 Score: 0.46244832686212667\n"
     ]
    }
   ],
   "source": [
    "print(\"\\nEvaluation for tuned KNN Regressor Model\\n\")\n",
    "evaluateModel(knn_regressor_tuned, X_train_transformed, y_train)"
   ]
  },
  {
   "cell_type": "code",
   "execution_count": 22,
   "id": "5655560a",
   "metadata": {
    "execution": {
     "iopub.execute_input": "2024-01-01T08:21:03.539247Z",
     "iopub.status.busy": "2024-01-01T08:21:03.538804Z",
     "iopub.status.idle": "2024-01-01T08:21:03.568522Z",
     "shell.execute_reply": "2024-01-01T08:21:03.566659Z"
    },
    "papermill": {
     "duration": 0.042741,
     "end_time": "2024-01-01T08:21:03.570652",
     "exception": false,
     "start_time": "2024-01-01T08:21:03.527911",
     "status": "completed"
    },
    "tags": []
   },
   "outputs": [
    {
     "name": "stdout",
     "output_type": "stream",
     "text": [
      "\n",
      "Testing the tuned KNN Regressor Model\n",
      "\n",
      "Mean Absolute Error: 372400.97612814535\n",
      "Mean Squared Error: 209049193400.26334\n",
      "Root Mean Squared Error: 457218.9775154388\n",
      "\n",
      "R2 Score: 0.3510903884353235\n"
     ]
    }
   ],
   "source": [
    "print(\"\\nTesting the tuned KNN Regressor Model\\n\")\n",
    "evaluateModel(knn_regressor_tuned, X_test_transformed, y_test)"
   ]
  }
 ],
 "metadata": {
  "kaggle": {
   "accelerator": "none",
   "dataSources": [
    {
     "datasetId": 1820993,
     "sourceId": 2970526,
     "sourceType": "datasetVersion"
    }
   ],
   "dockerImageVersionId": 30587,
   "isGpuEnabled": false,
   "isInternetEnabled": false,
   "language": "python",
   "sourceType": "notebook"
  },
  "kernelspec": {
   "display_name": "Python 3",
   "language": "python",
   "name": "python3"
  },
  "language_info": {
   "codemirror_mode": {
    "name": "ipython",
    "version": 3
   },
   "file_extension": ".py",
   "mimetype": "text/x-python",
   "name": "python",
   "nbconvert_exporter": "python",
   "pygments_lexer": "ipython3",
   "version": "3.10.12"
  },
  "papermill": {
   "default_parameters": {},
   "duration": 307.897386,
   "end_time": "2024-01-01T08:21:04.401218",
   "environment_variables": {},
   "exception": null,
   "input_path": "__notebook__.ipynb",
   "output_path": "__notebook__.ipynb",
   "parameters": {},
   "start_time": "2024-01-01T08:15:56.503832",
   "version": "2.4.0"
  }
 },
 "nbformat": 4,
 "nbformat_minor": 5
}
