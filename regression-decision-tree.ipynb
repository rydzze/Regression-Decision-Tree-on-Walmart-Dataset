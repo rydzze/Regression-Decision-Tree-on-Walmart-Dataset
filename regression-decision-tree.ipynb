{
 "cells": [
  {
   "cell_type": "markdown",
   "id": "0657587a",
   "metadata": {
    "papermill": {
     "duration": 0.008816,
     "end_time": "2024-01-01T15:48:04.843926",
     "exception": false,
     "start_time": "2024-01-01T15:48:04.835110",
     "status": "completed"
    },
    "tags": []
   },
   "source": [
    "# **Initialisation**"
   ]
  },
  {
   "cell_type": "code",
   "execution_count": 1,
   "id": "36d01995",
   "metadata": {
    "_cell_guid": "b1076dfc-b9ad-4769-8c92-a6c4dae69d19",
    "_uuid": "8f2839f25d086af736a60e9eeb907d3b93b6e0e5",
    "execution": {
     "iopub.execute_input": "2024-01-01T15:48:04.864115Z",
     "iopub.status.busy": "2024-01-01T15:48:04.863452Z",
     "iopub.status.idle": "2024-01-01T15:48:08.150989Z",
     "shell.execute_reply": "2024-01-01T15:48:08.149826Z"
    },
    "papermill": {
     "duration": 3.300766,
     "end_time": "2024-01-01T15:48:08.153721",
     "exception": false,
     "start_time": "2024-01-01T15:48:04.852955",
     "status": "completed"
    },
    "tags": []
   },
   "outputs": [],
   "source": [
    "import numpy as np # linear algebra\n",
    "import pandas as pd # data processing, CSV file I/O\n",
    "import seaborn as sns\n",
    "import matplotlib.pyplot as plt\n",
    "import matplotlib.dates as mdates\n",
    "\n",
    "from sklearn.model_selection import train_test_split\n",
    "from sklearn.preprocessing import StandardScaler\n",
    "from category_encoders import BinaryEncoder\n",
    "from sklearn.compose import ColumnTransformer\n",
    "from sklearn.pipeline import Pipeline\n",
    "\n",
    "from sklearn.tree import DecisionTreeRegressor\n",
    "from sklearn.linear_model import LinearRegression\n",
    "from sklearn.pipeline import make_pipeline\n",
    "from sklearn.preprocessing import PolynomialFeatures\n",
    "from sklearn.neighbors import KNeighborsRegressor\n",
    "from sklearn.metrics import r2_score, mean_absolute_error, mean_squared_error\n",
    "from sklearn.model_selection import GridSearchCV\n",
    "\n",
    "#Import Walmart CSV Dataset \n",
    "data = pd.read_csv(\"/kaggle/input/walmart-dataset/Walmart.csv\")"
   ]
  },
  {
   "cell_type": "markdown",
   "id": "62437f02",
   "metadata": {
    "papermill": {
     "duration": 0.007882,
     "end_time": "2024-01-01T15:48:08.170164",
     "exception": false,
     "start_time": "2024-01-01T15:48:08.162282",
     "status": "completed"
    },
    "tags": []
   },
   "source": [
    "# **Data Collection and Exploration**"
   ]
  },
  {
   "cell_type": "code",
   "execution_count": 2,
   "id": "19dc298a",
   "metadata": {
    "execution": {
     "iopub.execute_input": "2024-01-01T15:48:08.189521Z",
     "iopub.status.busy": "2024-01-01T15:48:08.188859Z",
     "iopub.status.idle": "2024-01-01T15:48:08.204341Z",
     "shell.execute_reply": "2024-01-01T15:48:08.203059Z"
    },
    "papermill": {
     "duration": 0.027994,
     "end_time": "2024-01-01T15:48:08.206820",
     "exception": false,
     "start_time": "2024-01-01T15:48:08.178826",
     "status": "completed"
    },
    "tags": []
   },
   "outputs": [
    {
     "data": {
      "text/plain": [
       "Store           0\n",
       "Date            0\n",
       "Weekly_Sales    0\n",
       "Holiday_Flag    0\n",
       "Temperature     0\n",
       "Fuel_Price      0\n",
       "CPI             0\n",
       "Unemployment    0\n",
       "dtype: int64"
      ]
     },
     "execution_count": 2,
     "metadata": {},
     "output_type": "execute_result"
    }
   ],
   "source": [
    "data.isnull().sum()"
   ]
  },
  {
   "cell_type": "code",
   "execution_count": 3,
   "id": "7060d527",
   "metadata": {
    "execution": {
     "iopub.execute_input": "2024-01-01T15:48:08.225752Z",
     "iopub.status.busy": "2024-01-01T15:48:08.225372Z",
     "iopub.status.idle": "2024-01-01T15:48:08.251848Z",
     "shell.execute_reply": "2024-01-01T15:48:08.251057Z"
    },
    "papermill": {
     "duration": 0.039192,
     "end_time": "2024-01-01T15:48:08.254445",
     "exception": false,
     "start_time": "2024-01-01T15:48:08.215253",
     "status": "completed"
    },
    "tags": []
   },
   "outputs": [
    {
     "name": "stdout",
     "output_type": "stream",
     "text": [
      "<class 'pandas.core.frame.DataFrame'>\n",
      "RangeIndex: 6435 entries, 0 to 6434\n",
      "Data columns (total 8 columns):\n",
      " #   Column        Non-Null Count  Dtype  \n",
      "---  ------        --------------  -----  \n",
      " 0   Store         6435 non-null   int64  \n",
      " 1   Date          6435 non-null   object \n",
      " 2   Weekly_Sales  6435 non-null   float64\n",
      " 3   Holiday_Flag  6435 non-null   int64  \n",
      " 4   Temperature   6435 non-null   float64\n",
      " 5   Fuel_Price    6435 non-null   float64\n",
      " 6   CPI           6435 non-null   float64\n",
      " 7   Unemployment  6435 non-null   float64\n",
      "dtypes: float64(5), int64(2), object(1)\n",
      "memory usage: 402.3+ KB\n"
     ]
    }
   ],
   "source": [
    "data.info()"
   ]
  },
  {
   "cell_type": "code",
   "execution_count": 4,
   "id": "a1ab2db8",
   "metadata": {
    "execution": {
     "iopub.execute_input": "2024-01-01T15:48:08.274631Z",
     "iopub.status.busy": "2024-01-01T15:48:08.273700Z",
     "iopub.status.idle": "2024-01-01T15:48:08.282087Z",
     "shell.execute_reply": "2024-01-01T15:48:08.280461Z"
    },
    "papermill": {
     "duration": 0.020429,
     "end_time": "2024-01-01T15:48:08.284337",
     "exception": false,
     "start_time": "2024-01-01T15:48:08.263908",
     "status": "completed"
    },
    "tags": []
   },
   "outputs": [
    {
     "name": "stdout",
     "output_type": "stream",
     "text": [
      "Numerical Features:\n",
      "Index(['Store', 'Weekly_Sales', 'Holiday_Flag', 'Temperature', 'Fuel_Price',\n",
      "       'CPI', 'Unemployment'],\n",
      "      dtype='object')\n",
      "\n",
      "Categorical Features:\n",
      "Index(['Date'], dtype='object')\n"
     ]
    }
   ],
   "source": [
    "numerical_columns = data.select_dtypes(include=['float64', 'int64']).columns\n",
    "print(\"Numerical Features:\")\n",
    "print(numerical_columns)\n",
    "\n",
    "categorical_columns = data.select_dtypes(include=['object']).columns\n",
    "print(\"\\nCategorical Features:\")\n",
    "print(categorical_columns)"
   ]
  },
  {
   "cell_type": "code",
   "execution_count": 5,
   "id": "d966763f",
   "metadata": {
    "execution": {
     "iopub.execute_input": "2024-01-01T15:48:08.303735Z",
     "iopub.status.busy": "2024-01-01T15:48:08.303350Z",
     "iopub.status.idle": "2024-01-01T15:48:08.328528Z",
     "shell.execute_reply": "2024-01-01T15:48:08.327619Z"
    },
    "papermill": {
     "duration": 0.03771,
     "end_time": "2024-01-01T15:48:08.330832",
     "exception": false,
     "start_time": "2024-01-01T15:48:08.293122",
     "status": "completed"
    },
    "tags": []
   },
   "outputs": [],
   "source": [
    "def seasonName(quarter):\n",
    "    if quarter == 1: return 'Winter'\n",
    "    elif quarter == 2: return 'Spring'\n",
    "    elif quarter == 3: return 'Summer'\n",
    "    else: return 'Autumn'\n",
    "    \n",
    "data['Date'] = pd.to_datetime(data['Date'], format = \"%d-%m-%Y\")\n",
    "data['Week'] = data['Date'].dt.isocalendar().week.astype('int32')\n",
    "data['Month_Name'] = data['Date'].dt.month_name()\n",
    "data['Quarter'] = data['Date'].dt.quarter\n",
    "data['Season'] = data['Quarter'].map(seasonName)"
   ]
  },
  {
   "cell_type": "code",
   "execution_count": 6,
   "id": "b792a28d",
   "metadata": {
    "execution": {
     "iopub.execute_input": "2024-01-01T15:48:08.351169Z",
     "iopub.status.busy": "2024-01-01T15:48:08.350084Z",
     "iopub.status.idle": "2024-01-01T15:48:10.280502Z",
     "shell.execute_reply": "2024-01-01T15:48:10.278998Z"
    },
    "papermill": {
     "duration": 1.943722,
     "end_time": "2024-01-01T15:48:10.284068",
     "exception": false,
     "start_time": "2024-01-01T15:48:08.340346",
     "status": "completed"
    },
    "tags": []
   },
   "outputs": [
    {
     "data": {
      "image/png": "[encoded data removed]",
      "text/plain": [
       "<Figure size 1000x1000 with 5 Axes>"
      ]
     },
     "metadata": {},
     "output_type": "display_data"
    }
   ],
   "source": [
    "numerical_columns = ['Weekly_Sales', 'Temperature', 'Fuel_Price', 'CPI', 'Unemployment']\n",
    "\n",
    "plt.figure(figsize=(10, 10))\n",
    "\n",
    "for col in numerical_columns:\n",
    "    plt.subplot(3, 2, numerical_columns.index(col) + 1)\n",
    "    sns.histplot(data=data, x=col, kde=True, bins=15, color='c')\n",
    "    plt.title(f'Distribution of {col}')\n",
    "    plt.xlabel(col)\n",
    "    plt.ylabel('Frequency')\n",
    "\n",
    "plt.tight_layout()\n",
    "plt.show()"
   ]
  },
  {
   "cell_type": "code",
   "execution_count": 7,
   "id": "f9f20f3b",
   "metadata": {
    "execution": {
     "iopub.execute_input": "2024-01-01T15:48:10.308948Z",
     "iopub.status.busy": "2024-01-01T15:48:10.307716Z",
     "iopub.status.idle": "2024-01-01T15:48:10.640396Z",
     "shell.execute_reply": "2024-01-01T15:48:10.639285Z"
    },
    "papermill": {
     "duration": 0.347727,
     "end_time": "2024-01-01T15:48:10.642677",
     "exception": false,
     "start_time": "2024-01-01T15:48:10.294950",
     "status": "completed"
    },
    "tags": []
   },
   "outputs": [
    {
     "data": {
      "image/png": "[encoded data removed]",
      "text/plain": [
       "<Figure size 1000x500 with 2 Axes>"
      ]
     },
     "metadata": {},
     "output_type": "display_data"
    }
   ],
   "source": [
    "holiday_counts = data['Holiday_Flag'].value_counts()\n",
    "\n",
    "total_holidays = holiday_counts.get(1, 0)\n",
    "total_non_holidays = holiday_counts.get(0, 0)\n",
    "\n",
    "plt.figure(figsize=(10, 5))\n",
    "\n",
    "plt.subplot(1, 2, 1)\n",
    "bars = plt.bar(['Holidays', 'Non-Holidays'], [total_holidays, total_non_holidays], color=['lightgreen', 'lightcoral'])\n",
    "plt.title('Total Count of Holidays and Non-Holidays')\n",
    "\n",
    "for bar in bars:\n",
    "    yval = bar.get_height()\n",
    "    plt.text(bar.get_x() + bar.get_width() / 2, yval, int(yval), ha = 'center', va='bottom')\n",
    "\n",
    "plt.subplot(1, 2, 2)\n",
    "plt.pie(holiday_counts, labels=holiday_counts.index, autopct='%1.1f%%', startangle=90, colors=['lightcoral', 'lightgreen'])\n",
    "plt.title('Distribution of Holidays')\n",
    "\n",
    "plt.show()"
   ]
  },
  {
   "cell_type": "code",
   "execution_count": 8,
   "id": "de5615b6",
   "metadata": {
    "execution": {
     "iopub.execute_input": "2024-01-01T15:48:10.667234Z",
     "iopub.status.busy": "2024-01-01T15:48:10.666420Z",
     "iopub.status.idle": "2024-01-01T15:48:11.122216Z",
     "shell.execute_reply": "2024-01-01T15:48:11.120897Z"
    },
    "papermill": {
     "duration": 0.470782,
     "end_time": "2024-01-01T15:48:11.124710",
     "exception": false,
     "start_time": "2024-01-01T15:48:10.653928",
     "status": "completed"
    },
    "tags": []
   },
   "outputs": [
    {
     "data": {
      "image/png": "[encoded data removed]",
      "text/plain": [
       "<Figure size 1000x600 with 2 Axes>"
      ]
     },
     "metadata": {},
     "output_type": "display_data"
    }
   ],
   "source": [
    "season_counts = data['Season'].value_counts()\n",
    "\n",
    "season_order = ['Winter', 'Spring', 'Summer', 'Autumn']\n",
    "\n",
    "plt.figure(figsize = (10, 6))\n",
    "\n",
    "plt.subplot(1, 2, 1)\n",
    "ax = sns.countplot(data = data, x = 'Season', order = season_order, palette = ['#FFB6C1', '#ADD8E6', '#98FB98', '#FFDAB9'])\n",
    "for p in ax.patches:\n",
    "    ax.annotate(f'{int(p.get_height())}', (p.get_x() + p.get_width() / 2., p.get_height()),\n",
    "                ha = 'center', va = 'center', xytext = (0, 10), textcoords = 'offset points')\n",
    "plt.xlabel('Season')\n",
    "plt.ylabel('Count')\n",
    "plt.title('Count of Occurrences by Season')\n",
    "\n",
    "plt.subplot(1, 2, 2)\n",
    "plt.pie(season_counts, labels = season_counts.index, autopct = '%1.1f%%', colors = ['#98FB98', '#ADD8E6', '#FFB6C1', '#FFDAB9'])\n",
    "plt.title('Distribution of Seasons')\n",
    "\n",
    "plt.tight_layout()\n",
    "plt.show()"
   ]
  },
  {
   "cell_type": "markdown",
   "id": "50264333",
   "metadata": {
    "papermill": {
     "duration": 0.011475,
     "end_time": "2024-01-01T15:48:11.147901",
     "exception": false,
     "start_time": "2024-01-01T15:48:11.136426",
     "status": "completed"
    },
    "tags": []
   },
   "source": [
    "# **Data Preprocessing**"
   ]
  },
  {
   "cell_type": "code",
   "execution_count": 9,
   "id": "d2c9ff42",
   "metadata": {
    "execution": {
     "iopub.execute_input": "2024-01-01T15:48:11.173029Z",
     "iopub.status.busy": "2024-01-01T15:48:11.172626Z",
     "iopub.status.idle": "2024-01-01T15:48:11.183600Z",
     "shell.execute_reply": "2024-01-01T15:48:11.182457Z"
    },
    "papermill": {
     "duration": 0.026555,
     "end_time": "2024-01-01T15:48:11.186140",
     "exception": false,
     "start_time": "2024-01-01T15:48:11.159585",
     "status": "completed"
    },
    "tags": []
   },
   "outputs": [
    {
     "data": {
      "text/plain": [
       "Store           0\n",
       "Date            0\n",
       "Weekly_Sales    0\n",
       "Holiday_Flag    0\n",
       "Temperature     0\n",
       "Fuel_Price      0\n",
       "CPI             0\n",
       "Unemployment    0\n",
       "Week            0\n",
       "Month_Name      0\n",
       "Quarter         0\n",
       "Season          0\n",
       "dtype: int64"
      ]
     },
     "execution_count": 9,
     "metadata": {},
     "output_type": "execute_result"
    }
   ],
   "source": [
    "data.isnull().sum()"
   ]
  },
  {
   "cell_type": "code",
   "execution_count": 10,
   "id": "5ee583d5",
   "metadata": {
    "execution": {
     "iopub.execute_input": "2024-01-01T15:48:11.212598Z",
     "iopub.status.busy": "2024-01-01T15:48:11.212167Z",
     "iopub.status.idle": "2024-01-01T15:48:11.220881Z",
     "shell.execute_reply": "2024-01-01T15:48:11.219482Z"
    },
    "papermill": {
     "duration": 0.025152,
     "end_time": "2024-01-01T15:48:11.223222",
     "exception": false,
     "start_time": "2024-01-01T15:48:11.198070",
     "status": "completed"
    },
    "tags": []
   },
   "outputs": [
    {
     "data": {
      "text/plain": [
       "Store                    int64\n",
       "Date            datetime64[ns]\n",
       "Weekly_Sales           float64\n",
       "Holiday_Flag             int64\n",
       "Temperature            float64\n",
       "Fuel_Price             float64\n",
       "CPI                    float64\n",
       "Unemployment           float64\n",
       "Week                     int32\n",
       "Month_Name              object\n",
       "Quarter                  int32\n",
       "Season                  object\n",
       "dtype: object"
      ]
     },
     "execution_count": 10,
     "metadata": {},
     "output_type": "execute_result"
    }
   ],
   "source": [
    "data.dtypes"
   ]
  },
  {
   "cell_type": "code",
   "execution_count": 11,
   "id": "85eeb2e4",
   "metadata": {
    "execution": {
     "iopub.execute_input": "2024-01-01T15:48:11.249939Z",
     "iopub.status.busy": "2024-01-01T15:48:11.249537Z",
     "iopub.status.idle": "2024-01-01T15:48:11.261944Z",
     "shell.execute_reply": "2024-01-01T15:48:11.260701Z"
    },
    "papermill": {
     "duration": 0.028757,
     "end_time": "2024-01-01T15:48:11.264369",
     "exception": false,
     "start_time": "2024-01-01T15:48:11.235612",
     "status": "completed"
    },
    "tags": []
   },
   "outputs": [
    {
     "data": {
      "text/plain": [
       "Store             int64\n",
       "Weekly_Sales    float64\n",
       "Holiday_Flag      int64\n",
       "Temperature     float64\n",
       "Fuel_Price      float64\n",
       "CPI             float64\n",
       "Unemployment    float64\n",
       "Week              int32\n",
       "Month_Name       object\n",
       "Season           object\n",
       "dtype: object"
      ]
     },
     "execution_count": 11,
     "metadata": {},
     "output_type": "execute_result"
    }
   ],
   "source": [
    "data_preprocess = data.copy()\n",
    "data_preprocess.drop(['Date', 'Quarter'], axis = 1, inplace = True)\n",
    "\n",
    "data_preprocess.dtypes"
   ]
  },
  {
   "cell_type": "code",
   "execution_count": 12,
   "id": "239d3b35",
   "metadata": {
    "execution": {
     "iopub.execute_input": "2024-01-01T15:48:11.289949Z",
     "iopub.status.busy": "2024-01-01T15:48:11.289559Z",
     "iopub.status.idle": "2024-01-01T15:48:11.301167Z",
     "shell.execute_reply": "2024-01-01T15:48:11.300065Z"
    },
    "papermill": {
     "duration": 0.027014,
     "end_time": "2024-01-01T15:48:11.303434",
     "exception": false,
     "start_time": "2024-01-01T15:48:11.276420",
     "status": "completed"
    },
    "tags": []
   },
   "outputs": [
    {
     "data": {
      "text/plain": [
       "Store            object\n",
       "Weekly_Sales    float64\n",
       "Holiday_Flag     object\n",
       "Temperature     float64\n",
       "Fuel_Price      float64\n",
       "CPI             float64\n",
       "Unemployment    float64\n",
       "Week             object\n",
       "Month_Name       object\n",
       "Season           object\n",
       "dtype: object"
      ]
     },
     "execution_count": 12,
     "metadata": {},
     "output_type": "execute_result"
    }
   ],
   "source": [
    "data_preprocess['Store'] = data_preprocess['Store'].astype('object')\n",
    "data_preprocess['Holiday_Flag'] = data_preprocess['Holiday_Flag'].astype('object')\n",
    "data_preprocess['Week'] = data_preprocess['Week'].astype('object')\n",
    "\n",
    "data_preprocess.dtypes"
   ]
  },
  {
   "cell_type": "code",
   "execution_count": 13,
   "id": "43f9a126",
   "metadata": {
    "execution": {
     "iopub.execute_input": "2024-01-01T15:48:11.329340Z",
     "iopub.status.busy": "2024-01-01T15:48:11.328922Z",
     "iopub.status.idle": "2024-01-01T15:48:11.343710Z",
     "shell.execute_reply": "2024-01-01T15:48:11.342391Z"
    },
    "papermill": {
     "duration": 0.030517,
     "end_time": "2024-01-01T15:48:11.346093",
     "exception": false,
     "start_time": "2024-01-01T15:48:11.315576",
     "status": "completed"
    },
    "tags": []
   },
   "outputs": [
    {
     "name": "stdout",
     "output_type": "stream",
     "text": [
      "Numerical Features : ['Temperature', 'Fuel_Price', 'CPI', 'Unemployment']\n",
      "Categorical Features: ['Store', 'Holiday_Flag', 'Week', 'Month_Name', 'Season']\n"
     ]
    }
   ],
   "source": [
    "X = data_preprocess.drop('Weekly_Sales', axis = 1)\n",
    "y = data_preprocess['Weekly_Sales']\n",
    "\n",
    "X_train, X_test, y_train, y_test = train_test_split(X, y, test_size = 0.2, random_state = 42)\n",
    "\n",
    "num_feats = data_preprocess.select_dtypes('number').columns.to_list()\n",
    "num_feats.remove('Weekly_Sales')\n",
    "\n",
    "cat_feats = data_preprocess.select_dtypes('object').columns.to_list()\n",
    "\n",
    "print(f'Numerical Features : {num_feats}')\n",
    "print(f'Categorical Features: {cat_feats}')"
   ]
  },
  {
   "cell_type": "code",
   "execution_count": 14,
   "id": "74386860",
   "metadata": {
    "execution": {
     "iopub.execute_input": "2024-01-01T15:48:11.373214Z",
     "iopub.status.busy": "2024-01-01T15:48:11.372817Z",
     "iopub.status.idle": "2024-01-01T15:48:11.516902Z",
     "shell.execute_reply": "2024-01-01T15:48:11.515769Z"
    },
    "papermill": {
     "duration": 0.160748,
     "end_time": "2024-01-01T15:48:11.519517",
     "exception": false,
     "start_time": "2024-01-01T15:48:11.358769",
     "status": "completed"
    },
    "tags": []
   },
   "outputs": [],
   "source": [
    "preprocessor = ColumnTransformer([('num_features', StandardScaler(), num_feats),\n",
    "                                  ('cat_features', BinaryEncoder(), cat_feats),])\n",
    "\n",
    "preprocessor.fit(X_train)\n",
    "\n",
    "X_train_transformed = preprocessor.transform(X_train)\n",
    "X_test_transformed = preprocessor.transform(X_test)"
   ]
  },
  {
   "cell_type": "markdown",
   "id": "d3e197e2",
   "metadata": {
    "papermill": {
     "duration": 0.011927,
     "end_time": "2024-01-01T15:48:11.544098",
     "exception": false,
     "start_time": "2024-01-01T15:48:11.532171",
     "status": "completed"
    },
    "tags": []
   },
   "source": [
    "# **Model Building and Evaluation**"
   ]
  },
  {
   "cell_type": "code",
   "execution_count": 15,
   "id": "2cd2c29a",
   "metadata": {
    "execution": {
     "iopub.execute_input": "2024-01-01T15:48:11.570587Z",
     "iopub.status.busy": "2024-01-01T15:48:11.570207Z",
     "iopub.status.idle": "2024-01-01T15:48:11.576300Z",
     "shell.execute_reply": "2024-01-01T15:48:11.575252Z"
    },
    "papermill": {
     "duration": 0.022021,
     "end_time": "2024-01-01T15:48:11.578517",
     "exception": false,
     "start_time": "2024-01-01T15:48:11.556496",
     "status": "completed"
    },
    "tags": []
   },
   "outputs": [],
   "source": [
    "#Calculating the evaluation metrics of the decision tree\n",
    "def evaluateModel(model, X, y_test):\n",
    "    \n",
    "    y_predict = model.predict(X)\n",
    "    \n",
    "    MAE = mean_absolute_error(y_test, y_predict)\n",
    "    MSE = mean_squared_error(y_test, y_predict)\n",
    "    RMSE = np.sqrt(MSE)\n",
    "    R2 = r2_score(y_test, y_predict)\n",
    "\n",
    "    print(f\"Mean Absolute Error: {MAE}\")\n",
    "    print(f\"Mean Squared Error: {MSE}\")\n",
    "    print(f\"Root Mean Squared Error: {RMSE}\")\n",
    "    print(f\"\\nR2 Score: {R2}\")"
   ]
  },
  {
   "cell_type": "markdown",
   "id": "a5f8e579",
   "metadata": {
    "papermill": {
     "duration": 0.012185,
     "end_time": "2024-01-01T15:48:11.603328",
     "exception": false,
     "start_time": "2024-01-01T15:48:11.591143",
     "status": "completed"
    },
    "tags": []
   },
   "source": [
    "## **1. Decision Tree Regressor** "
   ]
  },
  {
   "cell_type": "code",
   "execution_count": 16,
   "id": "9a44444c",
   "metadata": {
    "execution": {
     "iopub.execute_input": "2024-01-01T15:48:11.629897Z",
     "iopub.status.busy": "2024-01-01T15:48:11.629331Z",
     "iopub.status.idle": "2024-01-01T15:48:11.683703Z",
     "shell.execute_reply": "2024-01-01T15:48:11.682199Z"
    },
    "papermill": {
     "duration": 0.070523,
     "end_time": "2024-01-01T15:48:11.686097",
     "exception": false,
     "start_time": "2024-01-01T15:48:11.615574",
     "status": "completed"
    },
    "tags": []
   },
   "outputs": [
    {
     "name": "stdout",
     "output_type": "stream",
     "text": [
      "\n",
      "Evaluation for Decision Tree Regressor Model\n",
      "\n",
      "Mean Absolute Error: 0.0\n",
      "Mean Squared Error: 0.0\n",
      "Root Mean Squared Error: 0.0\n",
      "\n",
      "R2 Score: 1.0\n"
     ]
    }
   ],
   "source": [
    "decisionTree_regressor = DecisionTreeRegressor()\n",
    "decisionTree_regressor.fit(X_train_transformed, y_train)\n",
    "\n",
    "print(\"\\nEvaluation for Decision Tree Regressor Model\\n\")\n",
    "evaluateModel(decisionTree_regressor, X_train_transformed, y_train)"
   ]
  },
  {
   "cell_type": "markdown",
   "id": "3b99d652",
   "metadata": {
    "papermill": {
     "duration": 0.012213,
     "end_time": "2024-01-01T15:48:11.711586",
     "exception": false,
     "start_time": "2024-01-01T15:48:11.699373",
     "status": "completed"
    },
    "tags": []
   },
   "source": [
    "## **2. Linear Regression** "
   ]
  },
  {
   "cell_type": "code",
   "execution_count": 17,
   "id": "1154d79c",
   "metadata": {
    "execution": {
     "iopub.execute_input": "2024-01-01T15:48:11.739565Z",
     "iopub.status.busy": "2024-01-01T15:48:11.738715Z",
     "iopub.status.idle": "2024-01-01T15:48:11.774898Z",
     "shell.execute_reply": "2024-01-01T15:48:11.773629Z"
    },
    "papermill": {
     "duration": 0.073943,
     "end_time": "2024-01-01T15:48:11.798246",
     "exception": false,
     "start_time": "2024-01-01T15:48:11.724303",
     "status": "completed"
    },
    "tags": []
   },
   "outputs": [
    {
     "name": "stdout",
     "output_type": "stream",
     "text": [
      "\n",
      "Evaluation for Linear Regression Model\n",
      "\n",
      "Mean Absolute Error: 445396.7314952883\n",
      "Mean Squared Error: 282687248083.4086\n",
      "Root Mean Squared Error: 531683.4096371718\n",
      "\n",
      "R2 Score: 0.10969474712530514\n"
     ]
    }
   ],
   "source": [
    "linearRegression_regressor = LinearRegression()\n",
    "linearRegression_regressor.fit(X_train_transformed, y_train)\n",
    "\n",
    "print(\"\\nEvaluation for Linear Regression Model\\n\")\n",
    "evaluateModel(linearRegression_regressor, X_train_transformed, y_train)"
   ]
  },
  {
   "cell_type": "markdown",
   "id": "db03051c",
   "metadata": {
    "papermill": {
     "duration": 0.039923,
     "end_time": "2024-01-01T15:48:11.878770",
     "exception": false,
     "start_time": "2024-01-01T15:48:11.838847",
     "status": "completed"
    },
    "tags": []
   },
   "source": [
    "## **3. K-Nearest Neighbors Regressor** "
   ]
  },
  {
   "cell_type": "code",
   "execution_count": 18,
   "id": "53a6ba44",
   "metadata": {
    "execution": {
     "iopub.execute_input": "2024-01-01T15:48:11.980629Z",
     "iopub.status.busy": "2024-01-01T15:48:11.980232Z",
     "iopub.status.idle": "2024-01-01T15:48:12.117600Z",
     "shell.execute_reply": "2024-01-01T15:48:12.116387Z"
    },
    "papermill": {
     "duration": 0.15644,
     "end_time": "2024-01-01T15:48:12.119827",
     "exception": false,
     "start_time": "2024-01-01T15:48:11.963387",
     "status": "completed"
    },
    "tags": []
   },
   "outputs": [
    {
     "name": "stdout",
     "output_type": "stream",
     "text": [
      "\n",
      "Evaluation for K-Nearest Neighbors Regressor Model\n",
      "\n",
      "Mean Absolute Error: 280699.1654696969\n",
      "Mean Squared Error: 134593881455.65982\n",
      "Root Mean Squared Error: 366870.38781517895\n",
      "\n",
      "R2 Score: 0.576105252439928\n"
     ]
    }
   ],
   "source": [
    "knn_regressor = KNeighborsRegressor()\n",
    "knn_regressor.fit(X_train_transformed, y_train)\n",
    "\n",
    "print(\"\\nEvaluation for K-Nearest Neighbors Regressor Model\\n\")\n",
    "evaluateModel(knn_regressor, X_train_transformed, y_train)"
   ]
  },
  {
   "cell_type": "markdown",
   "id": "ba81b8d6",
   "metadata": {
    "papermill": {
     "duration": 0.012465,
     "end_time": "2024-01-01T15:48:12.145801",
     "exception": false,
     "start_time": "2024-01-01T15:48:12.133336",
     "status": "completed"
    },
    "tags": []
   },
   "source": [
    "# **Hyperparameter Tuning**"
   ]
  },
  {
   "cell_type": "code",
   "execution_count": 19,
   "id": "89f77b94",
   "metadata": {
    "execution": {
     "iopub.execute_input": "2024-01-01T15:48:12.173382Z",
     "iopub.status.busy": "2024-01-01T15:48:12.172966Z",
     "iopub.status.idle": "2024-01-01T15:48:12.179934Z",
     "shell.execute_reply": "2024-01-01T15:48:12.178714Z"
    },
    "papermill": {
     "duration": 0.023363,
     "end_time": "2024-01-01T15:48:12.182207",
     "exception": false,
     "start_time": "2024-01-01T15:48:12.158844",
     "status": "completed"
    },
    "tags": []
   },
   "outputs": [],
   "source": [
    "#Tuning the model to optimise the performance\n",
    "def tuneModel(estimator, X_train, y_train, param_grid, cv=5):   \n",
    "    \n",
    "    grid_search = GridSearchCV(estimator=estimator,\n",
    "                               param_grid=param_grid,\n",
    "                               scoring='r2',\n",
    "                               cv=cv)\n",
    "\n",
    "    # Fit the data\n",
    "    grid_search.fit(X_train, y_train)\n",
    "\n",
    "    best_params = grid_search.best_params_\n",
    "    best_score = grid_search.best_score_\n",
    "\n",
    "    print(f\"Best parameters: {best_params} \\n\")\n",
    "    print(f\"Best R2 score: {best_score}\")\n",
    "    \n",
    "    best_estimator = grid_search.best_estimator_\n",
    "    return best_estimator"
   ]
  },
  {
   "cell_type": "markdown",
   "id": "0fb5a3e7",
   "metadata": {
    "papermill": {
     "duration": 0.012397,
     "end_time": "2024-01-01T15:48:12.207601",
     "exception": false,
     "start_time": "2024-01-01T15:48:12.195204",
     "status": "completed"
    },
    "tags": []
   },
   "source": [
    "## **1. Decision Tree Regressor** "
   ]
  },
  {
   "cell_type": "code",
   "execution_count": 20,
   "id": "b85d20d0",
   "metadata": {
    "execution": {
     "iopub.execute_input": "2024-01-01T15:48:12.238709Z",
     "iopub.status.busy": "2024-01-01T15:48:12.236414Z",
     "iopub.status.idle": "2024-01-01T15:48:20.789780Z",
     "shell.execute_reply": "2024-01-01T15:48:20.788596Z"
    },
    "papermill": {
     "duration": 8.570694,
     "end_time": "2024-01-01T15:48:20.792421",
     "exception": false,
     "start_time": "2024-01-01T15:48:12.221727",
     "status": "completed"
    },
    "tags": []
   },
   "outputs": [
    {
     "name": "stdout",
     "output_type": "stream",
     "text": [
      "Best parameters: {'max_depth': 14, 'min_samples_split': 30} \n",
      "\n",
      "Best R2 score: 0.920540174754574\n"
     ]
    }
   ],
   "source": [
    "dt_param_grid = {'max_depth': np.arange(2, 15),\n",
    "              'min_samples_split': [10, 20, 30, 40, 50, 100, 200, 300]}\n",
    "\n",
    "decisionTree_regressor_tuned = tuneModel(decisionTree_regressor, X_train_transformed, y_train, dt_param_grid, cv = 5)"
   ]
  },
  {
   "cell_type": "code",
   "execution_count": 21,
   "id": "37b1755b",
   "metadata": {
    "execution": {
     "iopub.execute_input": "2024-01-01T15:48:20.820467Z",
     "iopub.status.busy": "2024-01-01T15:48:20.820087Z",
     "iopub.status.idle": "2024-01-01T15:48:20.828989Z",
     "shell.execute_reply": "2024-01-01T15:48:20.827504Z"
    },
    "papermill": {
     "duration": 0.025934,
     "end_time": "2024-01-01T15:48:20.831297",
     "exception": false,
     "start_time": "2024-01-01T15:48:20.805363",
     "status": "completed"
    },
    "tags": []
   },
   "outputs": [
    {
     "name": "stdout",
     "output_type": "stream",
     "text": [
      "\n",
      "Evaluation for tuned Decision Tree Regressor Model\n",
      "\n",
      "Mean Absolute Error: 60982.86422979938\n",
      "Mean Squared Error: 12702400153.36086\n",
      "Root Mean Squared Error: 112704.92515130322\n",
      "\n",
      "R2 Score: 0.959994610095335\n"
     ]
    }
   ],
   "source": [
    "print(\"\\nEvaluation for tuned Decision Tree Regressor Model\\n\")\n",
    "evaluateModel(decisionTree_regressor_tuned, X_train_transformed, y_train)"
   ]
  },
  {
   "cell_type": "code",
   "execution_count": 22,
   "id": "f73d5b81",
   "metadata": {
    "execution": {
     "iopub.execute_input": "2024-01-01T15:48:20.859378Z",
     "iopub.status.busy": "2024-01-01T15:48:20.858672Z",
     "iopub.status.idle": "2024-01-01T15:48:20.866963Z",
     "shell.execute_reply": "2024-01-01T15:48:20.865724Z"
    },
    "papermill": {
     "duration": 0.024737,
     "end_time": "2024-01-01T15:48:20.869358",
     "exception": false,
     "start_time": "2024-01-01T15:48:20.844621",
     "status": "completed"
    },
    "tags": []
   },
   "outputs": [
    {
     "name": "stdout",
     "output_type": "stream",
     "text": [
      "\n",
      "Testing the tuned Decision Tree Regressor Model\n",
      "\n",
      "Mean Absolute Error: 85878.88708381046\n",
      "Mean Squared Error: 25723073383.132168\n",
      "Root Mean Squared Error: 160384.14317859535\n",
      "\n",
      "R2 Score: 0.920153006640221\n"
     ]
    }
   ],
   "source": [
    "print(\"\\nTesting the tuned Decision Tree Regressor Model\\n\")\n",
    "evaluateModel(decisionTree_regressor_tuned, X_test_transformed, y_test)"
   ]
  },
  {
   "cell_type": "markdown",
   "id": "bc0d3cd4",
   "metadata": {
    "papermill": {
     "duration": 0.013083,
     "end_time": "2024-01-01T15:48:20.895597",
     "exception": false,
     "start_time": "2024-01-01T15:48:20.882514",
     "status": "completed"
    },
    "tags": []
   },
   "source": [
    "## **2. Linear Regression** "
   ]
  },
  {
   "cell_type": "code",
   "execution_count": 23,
   "id": "5ef77d3e",
   "metadata": {
    "execution": {
     "iopub.execute_input": "2024-01-01T15:48:20.923350Z",
     "iopub.status.busy": "2024-01-01T15:48:20.922926Z",
     "iopub.status.idle": "2024-01-01T15:54:08.016273Z",
     "shell.execute_reply": "2024-01-01T15:54:08.015067Z"
    },
    "papermill": {
     "duration": 347.13308,
     "end_time": "2024-01-01T15:54:08.041868",
     "exception": false,
     "start_time": "2024-01-01T15:48:20.908788",
     "status": "completed"
    },
    "tags": []
   },
   "outputs": [
    {
     "name": "stdout",
     "output_type": "stream",
     "text": [
      "Best parameters: {'poly_feat__degree': 3} \n",
      "\n",
      "Best R2 score: 0.9596253351731072\n"
     ]
    }
   ],
   "source": [
    "LR_pipe = Pipeline([('poly_feat', PolynomialFeatures()),\n",
    "                    ('lin_reg', LinearRegression())])\n",
    "\n",
    "param_grid = {'poly_feat__degree': [2, 3, 4]}\n",
    "\n",
    "linearRegression_regressor_tuned = tuneModel(LR_pipe, X_train_transformed, y_train, param_grid, cv = 5)"
   ]
  },
  {
   "cell_type": "code",
   "execution_count": 24,
   "id": "b18403c4",
   "metadata": {
    "execution": {
     "iopub.execute_input": "2024-01-01T15:54:08.088769Z",
     "iopub.status.busy": "2024-01-01T15:54:08.088210Z",
     "iopub.status.idle": "2024-01-01T15:54:08.217686Z",
     "shell.execute_reply": "2024-01-01T15:54:08.216517Z"
    },
    "papermill": {
     "duration": 0.15708,
     "end_time": "2024-01-01T15:54:08.221641",
     "exception": false,
     "start_time": "2024-01-01T15:54:08.064561",
     "status": "completed"
    },
    "tags": []
   },
   "outputs": [
    {
     "name": "stdout",
     "output_type": "stream",
     "text": [
      "\n",
      "Evaluation for tuned Linear Regression Model\n",
      "\n",
      "Mean Absolute Error: 50013.53652680652\n",
      "Mean Squared Error: 5346534842.949173\n",
      "Root Mean Squared Error: 73120.00302891934\n",
      "\n",
      "R2 Score: 0.9831614333945805\n"
     ]
    }
   ],
   "source": [
    "print(\"\\nEvaluation for tuned Linear Regression Model\\n\")\n",
    "evaluateModel(linearRegression_regressor_tuned, X_train_transformed, y_train)"
   ]
  },
  {
   "cell_type": "code",
   "execution_count": 25,
   "id": "1c82fa7d",
   "metadata": {
    "execution": {
     "iopub.execute_input": "2024-01-01T15:54:08.268033Z",
     "iopub.status.busy": "2024-01-01T15:54:08.267328Z",
     "iopub.status.idle": "2024-01-01T15:54:08.318122Z",
     "shell.execute_reply": "2024-01-01T15:54:08.317031Z"
    },
    "papermill": {
     "duration": 0.076956,
     "end_time": "2024-01-01T15:54:08.321488",
     "exception": false,
     "start_time": "2024-01-01T15:54:08.244532",
     "status": "completed"
    },
    "tags": []
   },
   "outputs": [
    {
     "name": "stdout",
     "output_type": "stream",
     "text": [
      "\n",
      "Testing the tuned Linear Regression Model\n",
      "\n",
      "Mean Absolute Error: 73390.14815073814\n",
      "Mean Squared Error: 11561618359.577126\n",
      "Root Mean Squared Error: 107524.96621518709\n",
      "\n",
      "R2 Score: 0.9641115798786776\n"
     ]
    }
   ],
   "source": [
    "print(\"\\nTesting the tuned Linear Regression Model\\n\")\n",
    "evaluateModel(linearRegression_regressor_tuned, X_test_transformed, y_test)"
   ]
  },
  {
   "cell_type": "markdown",
   "id": "1bb0563b",
   "metadata": {
    "papermill": {
     "duration": 0.021655,
     "end_time": "2024-01-01T15:54:08.365066",
     "exception": false,
     "start_time": "2024-01-01T15:54:08.343411",
     "status": "completed"
    },
    "tags": []
   },
   "source": [
    "## **3. K-Nearest Neighbors Regressor** "
   ]
  },
  {
   "cell_type": "code",
   "execution_count": 26,
   "id": "5af3f68a",
   "metadata": {
    "execution": {
     "iopub.execute_input": "2024-01-01T15:54:08.411736Z",
     "iopub.status.busy": "2024-01-01T15:54:08.411185Z",
     "iopub.status.idle": "2024-01-01T15:54:09.055755Z",
     "shell.execute_reply": "2024-01-01T15:54:09.054774Z"
    },
    "papermill": {
     "duration": 0.671057,
     "end_time": "2024-01-01T15:54:09.058123",
     "exception": false,
     "start_time": "2024-01-01T15:54:08.387066",
     "status": "completed"
    },
    "tags": []
   },
   "outputs": [
    {
     "name": "stdout",
     "output_type": "stream",
     "text": [
      "Best parameters: {'n_neighbors': 13} \n",
      "\n",
      "Best R2 score: 0.3530567607408912\n"
     ]
    }
   ],
   "source": [
    "knn_param_grid = {'n_neighbors': [1, 3, 5, 7, 9, 11, 13]}\n",
    "\n",
    "knn_regressor_tuned = tuneModel(knn_regressor, X_train_transformed, y_train, knn_param_grid, cv = 5)"
   ]
  },
  {
   "cell_type": "code",
   "execution_count": 27,
   "id": "9ec42412",
   "metadata": {
    "execution": {
     "iopub.execute_input": "2024-01-01T15:54:09.086604Z",
     "iopub.status.busy": "2024-01-01T15:54:09.086223Z",
     "iopub.status.idle": "2024-01-01T15:54:09.170016Z",
     "shell.execute_reply": "2024-01-01T15:54:09.169076Z"
    },
    "papermill": {
     "duration": 0.100677,
     "end_time": "2024-01-01T15:54:09.172375",
     "exception": false,
     "start_time": "2024-01-01T15:54:09.071698",
     "status": "completed"
    },
    "tags": []
   },
   "outputs": [
    {
     "name": "stdout",
     "output_type": "stream",
     "text": [
      "\n",
      "Evaluation for tuned KNN Regressor Model\n",
      "\n",
      "Mean Absolute Error: 334245.1421195684\n",
      "Mean Squared Error: 170681912401.75092\n",
      "Root Mean Squared Error: 413136.67520779476\n",
      "\n",
      "R2 Score: 0.46244832686212667\n"
     ]
    }
   ],
   "source": [
    "print(\"\\nEvaluation for tuned KNN Regressor Model\\n\")\n",
    "evaluateModel(knn_regressor_tuned, X_train_transformed, y_train)"
   ]
  },
  {
   "cell_type": "code",
   "execution_count": 28,
   "id": "c869ffcb",
   "metadata": {
    "execution": {
     "iopub.execute_input": "2024-01-01T15:54:09.201600Z",
     "iopub.status.busy": "2024-01-01T15:54:09.200791Z",
     "iopub.status.idle": "2024-01-01T15:54:09.233784Z",
     "shell.execute_reply": "2024-01-01T15:54:09.232805Z"
    },
    "papermill": {
     "duration": 0.049906,
     "end_time": "2024-01-01T15:54:09.236105",
     "exception": false,
     "start_time": "2024-01-01T15:54:09.186199",
     "status": "completed"
    },
    "tags": []
   },
   "outputs": [
    {
     "name": "stdout",
     "output_type": "stream",
     "text": [
      "\n",
      "Testing the tuned KNN Regressor Model\n",
      "\n",
      "Mean Absolute Error: 372400.97612814535\n",
      "Mean Squared Error: 209049193400.26334\n",
      "Root Mean Squared Error: 457218.9775154388\n",
      "\n",
      "R2 Score: 0.3510903884353235\n"
     ]
    }
   ],
   "source": [
    "print(\"\\nTesting the tuned KNN Regressor Model\\n\")\n",
    "evaluateModel(knn_regressor_tuned, X_test_transformed, y_test)"
   ]
  }
 ],
 "metadata": {
  "kaggle": {
   "accelerator": "none",
   "dataSources": [
    {
     "datasetId": 1820993,
     "sourceId": 2970526,
     "sourceType": "datasetVersion"
    }
   ],
   "dockerImageVersionId": 30587,
   "isGpuEnabled": false,
   "isInternetEnabled": false,
   "language": "python",
   "sourceType": "notebook"
  },
  "kernelspec": {
   "display_name": "Python 3",
   "language": "python",
   "name": "python3"
  },
  "language_info": {
   "codemirror_mode": {
    "name": "ipython",
    "version": 3
   },
   "file_extension": ".py",
   "mimetype": "text/x-python",
   "name": "python",
   "nbconvert_exporter": "python",
   "pygments_lexer": "ipython3",
   "version": "3.10.12"
  },
  "papermill": {
   "default_parameters": {},
   "duration": 368.663196,
   "end_time": "2024-01-01T15:54:09.970875",
   "environment_variables": {},
   "exception": null,
   "input_path": "__notebook__.ipynb",
   "output_path": "__notebook__.ipynb",
   "parameters": {},
   "start_time": "2024-01-01T15:48:01.307679",
   "version": "2.4.0"
  }
 },
 "nbformat": 4,
 "nbformat_minor": 5
}
